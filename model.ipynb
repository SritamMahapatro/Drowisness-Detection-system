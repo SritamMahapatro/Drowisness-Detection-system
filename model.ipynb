{
 "cells": [
  {
   "cell_type": "code",
   "execution_count": 1,
   "metadata": {},
   "outputs": [],
   "source": [
    "import os\n",
    "from keras.preprocessing import image\n",
    "import matplotlib.pyplot as plt \n",
    "import numpy as np\n",
    "from keras.utils.np_utils import to_categorical\n",
    "import random,shutil\n",
    "from keras.models import Sequential\n",
    "from keras.layers import Dropout,Conv2D,Flatten,Dense, MaxPooling2D, BatchNormalization\n",
    "from keras.models import load_model"
   ]
  },
  {
   "cell_type": "code",
   "execution_count": 11,
   "metadata": {},
   "outputs": [
    {
     "name": "stdout",
     "output_type": "stream",
     "text": [
      "Found 1234 images belonging to 2 classes.\n",
      "Found 218 images belonging to 2 classes.\n",
      "38 6\n"
     ]
    }
   ],
   "source": [
    "def generator(dir, gen=image.ImageDataGenerator(rescale=1./255), shuffle=True,batch_size=1,target_size=(24,24),class_mode='categorical' ):\n",
    "\n",
    "    return gen.flow_from_directory(dir,batch_size=batch_size,shuffle=shuffle,color_mode='grayscale',class_mode=class_mode,target_size=target_size)\n",
    "\n",
    "BS= 32\n",
    "TS=(24,24)\n",
    "train_batch= generator('data/train',shuffle=True, batch_size=BS,target_size=TS)\n",
    "valid_batch= generator('data/valid',shuffle=True, batch_size=BS,target_size=TS)\n",
    "SPE= len(train_batch.classes)//BS\n",
    "VS = len(valid_batch.classes)//BS\n",
    "print(SPE,VS)\n",
    "\n",
    "\n",
    "\n",
    "model = Sequential([\n",
    "    Conv2D(32, kernel_size=(3, 3), activation='relu', input_shape=(24,24,1)),\n",
    "    MaxPooling2D(pool_size=(1,1)),\n",
    "    Conv2D(32,(3,3),activation='relu'),\n",
    "    MaxPooling2D(pool_size=(1,1)),\n",
    "#32 convolution filters used each of size 3x3\n",
    "#again\n",
    "    Conv2D(64, (3, 3), activation='relu'),\n",
    "    MaxPooling2D(pool_size=(1,1)),\n",
    "    \n",
    "    \n",
    "#64 convolution filters used each of size 3x3\n",
    "#choose the best features via pooling\n",
    "    \n",
    "#randomly turn neurons on and off to improve convergence\n",
    "    Dropout(0.25),\n",
    "#flatten since too many dimensions, we only want a classification output\n",
    "    Flatten(),\n",
    "#fully connected to get all relevant data\n",
    "    Dense(128, activation='relu'),\n",
    "#one more dropout for convergence' sake :) \n",
    "    Dropout(0.5),\n",
    "#output a softmax to squash the matrix into output probabilities\n",
    "    Dense(2, activation='softmax')\n",
    "])"
   ]
  },
  {
   "cell_type": "code",
   "execution_count": 13,
   "metadata": {},
   "outputs": [
    {
     "name": "stderr",
     "output_type": "stream",
     "text": [
      "C:\\Users\\Srita\\AppData\\Local\\Temp\\ipykernel_5488\\814966032.py:3: UserWarning: `Model.fit_generator` is deprecated and will be removed in a future version. Please use `Model.fit`, which supports generators.\n",
      "  model.fit_generator(train_batch, validation_data=valid_batch,epochs=15,steps_per_epoch=SPE ,validation_steps=VS)\n"
     ]
    },
    {
     "name": "stdout",
     "output_type": "stream",
     "text": [
      "Epoch 1/15\n",
      "38/38 [==============================] - 8s 174ms/step - loss: 0.3820 - accuracy: 0.8336 - val_loss: 0.1856 - val_accuracy: 0.9375\n",
      "Epoch 2/15\n",
      "38/38 [==============================] - 6s 159ms/step - loss: 0.1758 - accuracy: 0.9293 - val_loss: 0.1023 - val_accuracy: 0.9531\n",
      "Epoch 3/15\n",
      "38/38 [==============================] - 6s 170ms/step - loss: 0.1455 - accuracy: 0.9567 - val_loss: 0.1151 - val_accuracy: 0.9427\n",
      "Epoch 4/15\n",
      "38/38 [==============================] - 8s 197ms/step - loss: 0.1223 - accuracy: 0.9509 - val_loss: 0.1484 - val_accuracy: 0.9427\n",
      "Epoch 5/15\n",
      "38/38 [==============================] - 6s 156ms/step - loss: 0.0942 - accuracy: 0.9626 - val_loss: 0.1054 - val_accuracy: 0.9635\n",
      "Epoch 6/15\n",
      "38/38 [==============================] - 7s 194ms/step - loss: 0.0624 - accuracy: 0.9734 - val_loss: 0.0761 - val_accuracy: 0.9688\n",
      "Epoch 7/15\n",
      "38/38 [==============================] - 6s 161ms/step - loss: 0.0490 - accuracy: 0.9834 - val_loss: 0.1362 - val_accuracy: 0.9531\n",
      "Epoch 8/15\n",
      "38/38 [==============================] - 6s 168ms/step - loss: 0.0535 - accuracy: 0.9800 - val_loss: 0.0907 - val_accuracy: 0.9688\n",
      "Epoch 9/15\n",
      "38/38 [==============================] - 7s 194ms/step - loss: 0.0433 - accuracy: 0.9825 - val_loss: 0.0909 - val_accuracy: 0.9583\n",
      "Epoch 10/15\n",
      "38/38 [==============================] - 6s 155ms/step - loss: 0.0426 - accuracy: 0.9825 - val_loss: 0.0898 - val_accuracy: 0.9583\n",
      "Epoch 11/15\n",
      "38/38 [==============================] - 6s 155ms/step - loss: 0.0430 - accuracy: 0.9792 - val_loss: 0.0837 - val_accuracy: 0.9635\n",
      "Epoch 12/15\n",
      "38/38 [==============================] - 6s 157ms/step - loss: 0.0309 - accuracy: 0.9933 - val_loss: 0.0802 - val_accuracy: 0.9635\n",
      "Epoch 13/15\n",
      "38/38 [==============================] - 6s 157ms/step - loss: 0.0255 - accuracy: 0.9901 - val_loss: 0.0803 - val_accuracy: 0.9740\n",
      "Epoch 14/15\n",
      "38/38 [==============================] - 6s 165ms/step - loss: 0.0139 - accuracy: 0.9958 - val_loss: 0.1265 - val_accuracy: 0.9583\n",
      "Epoch 15/15\n",
      "38/38 [==============================] - 6s 151ms/step - loss: 0.0326 - accuracy: 0.9867 - val_loss: 0.1303 - val_accuracy: 0.9688\n"
     ]
    }
   ],
   "source": [
    "model.compile(optimizer='adam',loss='categorical_crossentropy',metrics=['accuracy'])\n",
    "\n",
    "model.fit_generator(train_batch, validation_data=valid_batch,epochs=15,steps_per_epoch=SPE ,validation_steps=VS)\n",
    "\n",
    "model.save('models/cnnCat2.h5', overwrite=True)"
   ]
  }
 ],
 "metadata": {
  "kernelspec": {
   "display_name": "base",
   "language": "python",
   "name": "python3"
  },
  "language_info": {
   "codemirror_mode": {
    "name": "ipython",
    "version": 3
   },
   "file_extension": ".py",
   "mimetype": "text/x-python",
   "name": "python",
   "nbconvert_exporter": "python",
   "pygments_lexer": "ipython3",
   "version": "3.9.13"
  },
  "orig_nbformat": 4
 },
 "nbformat": 4,
 "nbformat_minor": 2
}
